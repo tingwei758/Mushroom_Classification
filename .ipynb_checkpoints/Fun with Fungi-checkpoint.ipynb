{
 "cells": [
  {
   "cell_type": "markdown",
   "metadata": {},
   "source": [
    "# The World of Sporia\n",
    "---\n",
    "\n",
    "%%html\n",
    "<img src='MushroomWorld.png'>\n",
    "\n",
    "Recent advances in astronomical research have lead to the discovery of a new planet called Sporia - a lush and vibrant world notorious for its chaotic mushroom inhabitants. Your colleague, Steve Enoki, has travelled and is currently performing field studies and analyses based out of the Port-of-Bello research centre (view image above). Results from Steve's analyses are streamed back to IBM's botanical analytics hub located in Calgary, Alberta. \n",
    "\n",
    "Mysteriously, Steve's incoming updates have come to a halt. His absences from the daily SCRUM calls has the team growing increasingly worried. Luckily, the comraderie at the IBM Calgary office is strong. To decide the best course of action, the botanical analytics group held a meeting. The lead researcher delivered a motivating speech stating *No human should be left behind*. Feeling inspired, you bravely step forward and volunteer to save Mr. Enoki. In a week's time you are scheduled to travel to Sporia.\n",
    "\n",
    "Before travelling, you begin to devise a plan. You realize that the data Steve has sent over is highly conducive to wilderness survival in Sporia. Using the data attributes and your wide breadth of data science knowledge, you set out to develop a data-driven survival system that will deter you from eating or touching any poisonous fungi. \n",
    "\n",
    "## Your Challenge...\n",
    "---\n",
    "Your challenge, should you choose to accept it, is to develop a set of data driven guidelines for the purpose of wilderness survival in Sporia. There are two options for this mini data science project:\n",
    "1. Perform Exploratory Data Analyses that expose important criteria regarding the toxicity of mushrooms\n",
    "2. Develop a machine learning model that predicts the likelihood of a mushroom's toxicity\n",
    "\n",
    "The following subsection will elaborate further on these options.\n",
    "\n",
    "**Note:** The student only needs to do one of the two options. YOU ARE NOT REQUIRED TO DO BOTH!!! However, it is important to note that the student will be asked questions about the section they chose not to do. These questions will largely be conceptual asking you about the general approach to the problem.\n",
    "\n",
    "### Option A: Exploratory Data Analysis\n",
    "---\n",
    "The student may conduct a set of analyses which may include data visualizations, statistical tests etc. that expose insights regarding the toxicity of a mushroom. This exercise is purposefully left open ended so that any results may be discussed during the formal interview with IBM. The student should be able to explain their results and defend any assumptions made during their analysis. Ultimately, the set of analyses should be capable of identifying key attributes that indicate whether a mushroom is poisonous or not.\n",
    "\n",
    "As a deliverable, the IBM team expects the following:\n",
    "1. 4 or more data analyses\n",
    "2. A brief written discussion that explains why each analysis was conducted\n",
    "3. A written set of guidelines derived from the analyses that explain some key criteria for surving the toxic jungle of Sporia\n",
    "\n",
    "### Option B: Machine Learning Model\n",
    "---\n",
    "Alternatively, the student may choose to develop a machine learning model that can predict the likelihood of mushroom's toxicity. The student may choose any model formulation they believe is best for the problem. They must be able to explain why they chose this model! The student may assume that the data is perfectly clean (i.e. do not concern about missing or corrupt values). \n",
    "\n",
    "As a deliverable, the IBM team expects the following:\n",
    "1. A model that can predict the toxicity of a mushroom\n",
    "2. Evaluation Metric for the model\n",
    "3. A written section that explains the choice of model, the advantages & limitations of the model, suggestions for improvement of the model and a summary of the model's performance.\n",
    "\n",
    "\n",
    "\n",
    "## Keep in Mind\n",
    "---\n",
    "\n",
    "The student should be able to state and defend any assumptions they make when solving a problem. \n",
    "For the most part, there are no right or wrong answers. This exercise was designed to be open-ended allowing the student to lead their own mini data science project with the expectation of completing a final deliverable. This is analogous to any real-world data science consulting scenario where you are expected to develop and present a final solution that is satisfactory to the client's standards. Keep in mind that any work provided may be questioned or brought up for discussion during the formal interview. The following are some important criteria to consider while you code and prepare for the interview:\n",
    "1. State any assumptions made when solving the problem\n",
    "2. Write clean and well documented code\n",
    "3. Be able to explain your solution in a concise manner\n",
    "4. Analyze and interpret results that our conducive to the problem being solved\n",
    "\n",
    "**Note:** Again, the student will be asked questions pertaining to both option A & option B. Questions pertaining to student's selected option will be more programming/technically oriented while the unchosen option will largely be conceptual/theoretical. "
   ]
  },
  {
   "cell_type": "markdown",
   "metadata": {},
   "source": [
    "# Import Data and Python Libraries\n",
    "---\n",
    "Please list all python modules used for your analyses in the code block below. As a general piece of advice, we recommend the following packages that are standard to any data science project. Links are provided to their home page. These packages are very well documented and should provide  answers to any questions you may have. By no means are you restricted to the use of these packages only!\n",
    "\n",
    "See links below:\n",
    "\n",
    "**Pandas Data Analysis Library:** https://pandas.pydata.org/\n",
    "\n",
    "**Numpy Scientific Computing Package:** https://www.numpy.org/\n",
    "\n",
    "**Sklearn - Machine Learning Library:** https://scikit-learn.org/stable/"
   ]
  },
  {
   "cell_type": "code",
   "execution_count": null,
   "metadata": {},
   "outputs": [],
   "source": [
    "### Import Libraries and Data Here ###\n"
   ]
  },
  {
   "cell_type": "markdown",
   "metadata": {},
   "source": [
    "## Discussion\n",
    "---\n",
    "**Why did you choose these libraries? Please explain.**\n",
    "\n",
    "*Explain here*\n",
    "\n",
    "**What Data Structure did you choose for this project? Why?**\n",
    "\n",
    "*Explain here*\n"
   ]
  },
  {
   "cell_type": "markdown",
   "metadata": {},
   "source": [
    "# Option A: Exploratory Data Analysis (EDA)\n",
    "---\n",
    "Each analysis should have a preceding markdown block that describes the analysis process and any results. The description can be very brief. Discussion about results can be saved for the end of this section. We provide an example template in the markdown and code cells below. At minimum, we expect 4 analyses.\n",
    "\n",
    "As mentioned before, we expect the following as deliverable:\n",
    "1. 4 or more data analyses\n",
    "2. A brief written discussion that explains why each analysis was conducted\n",
    "3. A written set of guidelines derived from the analyses that explain some key criteria for surving the toxic jungle of Sporia"
   ]
  },
  {
   "cell_type": "markdown",
   "metadata": {},
   "source": [
    "## Analysis 1\n",
    "---\n",
    "*Briedly explain analysis here*"
   ]
  },
  {
   "cell_type": "code",
   "execution_count": null,
   "metadata": {},
   "outputs": [],
   "source": [
    "### Code for Analysis 1 here ###\n"
   ]
  },
  {
   "cell_type": "markdown",
   "metadata": {},
   "source": [
    "## Analysis 2\n",
    "---\n",
    "*Briedly explain analysis here*"
   ]
  },
  {
   "cell_type": "code",
   "execution_count": null,
   "metadata": {},
   "outputs": [],
   "source": [
    "### Code for Analysis 2 here ###\n"
   ]
  },
  {
   "cell_type": "markdown",
   "metadata": {},
   "source": [
    "## Analysis 3\n",
    "---\n",
    "*Briedly explain analysis here*"
   ]
  },
  {
   "cell_type": "code",
   "execution_count": null,
   "metadata": {},
   "outputs": [],
   "source": [
    "### Code for Analysis 3 here ###\n"
   ]
  },
  {
   "cell_type": "markdown",
   "metadata": {},
   "source": [
    "## Analysis 4\n",
    "---\n",
    "*Briedly explain analysis here*"
   ]
  },
  {
   "cell_type": "code",
   "execution_count": null,
   "metadata": {},
   "outputs": [],
   "source": [
    "### Code for Analysis 4 here ###\n"
   ]
  },
  {
   "cell_type": "markdown",
   "metadata": {},
   "source": [
    "## EDA Results & Discussion\n",
    "---\n",
    "\n",
    "**Discuss Results**\n",
    "\n",
    "*Provide discussion here*\n",
    "\n",
    "\n",
    "**What are some key criteria for surviving the Sporia Jungle?**\n",
    "\n",
    "*Provide list of important criteria here*"
   ]
  },
  {
   "cell_type": "markdown",
   "metadata": {},
   "source": [
    "# Option B: Machine Learning Model\n",
    "---\n",
    "Here, the student may choose a machine learning model to predict the toxicity of a mushroom. This machine learning formulation will be a binary prediction of edible (1) or toxic (0). Since all of the features are categorical, we highly recommend one-hot encoding that data prior to modelling. It is up to you to choose your own evaluation criteria for your model. \n",
    "\n",
    "As mentioned before, we expect the following as a deliverable:\n",
    "1. State any assumptions made when solving the problem\n",
    "2. Write clean and well documented code\n",
    "3. Be able to explain your solution in a concise manner\n",
    "4. Analyze and interpret results that our conducive to the problem being solved"
   ]
  },
  {
   "cell_type": "code",
   "execution_count": null,
   "metadata": {},
   "outputs": [],
   "source": [
    "### All relevant code here ###\n",
    "# You may choose to modulate code into different blocks if you wish\n"
   ]
  },
  {
   "cell_type": "markdown",
   "metadata": {},
   "source": [
    "## Model Results & Discussion\n",
    "---\n",
    "*Please provide your writeup here*"
   ]
  }
 ],
 "metadata": {
  "kernelspec": {
   "display_name": "PythonProjects",
   "language": "python",
   "name": "pythonprojects"
  },
  "language_info": {
   "codemirror_mode": {
    "name": "ipython",
    "version": 3
   },
   "file_extension": ".py",
   "mimetype": "text/x-python",
   "name": "python",
   "nbconvert_exporter": "python",
   "pygments_lexer": "ipython3",
   "version": "3.7.0"
  },
  "latex_envs": {
   "LaTeX_envs_menu_present": true,
   "autoclose": false,
   "autocomplete": true,
   "bibliofile": "biblio.bib",
   "cite_by": "apalike",
   "current_citInitial": 1,
   "eqLabelWithNumbers": true,
   "eqNumInitial": 1,
   "hotkeys": {
    "equation": "Ctrl-E",
    "itemize": "Ctrl-I"
   },
   "labels_anchors": false,
   "latex_user_defs": false,
   "report_style_numbering": false,
   "user_envs_cfg": false
  },
  "toc": {
   "base_numbering": 1,
   "nav_menu": {},
   "number_sections": true,
   "sideBar": true,
   "skip_h1_title": false,
   "title_cell": "Table of Contents",
   "title_sidebar": "Contents",
   "toc_cell": false,
   "toc_position": {},
   "toc_section_display": true,
   "toc_window_display": true
  }
 },
 "nbformat": 4,
 "nbformat_minor": 2
}
